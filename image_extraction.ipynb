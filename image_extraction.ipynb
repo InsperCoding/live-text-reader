{
 "cells": [
  {
   "cell_type": "code",
   "execution_count": 2,
   "metadata": {},
   "outputs": [],
   "source": [
    "import numpy as np \n",
    "import pandas as pd \n",
    "import cv2"
   ]
  },
  {
   "cell_type": "code",
   "execution_count": 8,
   "metadata": {},
   "outputs": [],
   "source": [
    "BASE_DATA_PATH = './archive'\n",
    "\n",
    "number_to_char_map = {}\n",
    "# A-Z em ASCII -> A -> 65. Z -> 90\n",
    "for i in range(65, 91):\n",
    "    number_to_char_map[i - 65] = chr(i)\n"
   ]
  },
  {
   "cell_type": "code",
   "execution_count": 9,
   "metadata": {},
   "outputs": [],
   "source": [
    "BASE_IMGS_PATH = './data/imgs2'\n",
    "\n",
    "def row_to_img(i: int, row: pd.Series) -> None:\n",
    "    feature = number_to_char_map.get(row[0])\n",
    "    img = np.array(row[1:])\n",
    "    img = img.reshape((28, 28))\n",
    "    cv2.imwrite(f\"{BASE_IMGS_PATH}/{feature}_{i}.png\", img)"
   ]
  },
  {
   "cell_type": "code",
   "execution_count": 11,
   "metadata": {},
   "outputs": [
    {
     "data": {
      "text/plain": [
       "0         None\n",
       "1         None\n",
       "2         None\n",
       "3         None\n",
       "4         None\n",
       "          ... \n",
       "372445    None\n",
       "372446    None\n",
       "372447    None\n",
       "372448    None\n",
       "372449    None\n",
       "Length: 372450, dtype: object"
      ]
     },
     "execution_count": 11,
     "metadata": {},
     "output_type": "execute_result"
    }
   ],
   "source": [
    "train_df = pd.read_csv(f\"{BASE_DATA_PATH}/A_Z Handwritten Data.csv\")\n",
    "train_df.apply(lambda row: row_to_img(row.name, row), axis=1)"
   ]
  }
 ],
 "metadata": {
  "kernelspec": {
   "display_name": "conda",
   "language": "python",
   "name": "python3"
  },
  "language_info": {
   "codemirror_mode": {
    "name": "ipython",
    "version": 3
   },
   "file_extension": ".py",
   "mimetype": "text/x-python",
   "name": "python",
   "nbconvert_exporter": "python",
   "pygments_lexer": "ipython3",
   "version": "3.10.2"
  },
  "orig_nbformat": 4,
  "vscode": {
   "interpreter": {
    "hash": "3d23e10d825f1fa7ded50f967e4b0541ecae81bdb7f1d39b6b69da7f7a5d74b9"
   }
  }
 },
 "nbformat": 4,
 "nbformat_minor": 2
}
