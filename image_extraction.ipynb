{
 "cells": [
  {
   "cell_type": "code",
   "execution_count": 3,
   "metadata": {},
   "outputs": [],
   "source": [
    "import numpy as np \n",
    "import pandas as pd \n",
    "import cv2"
   ]
  },
  {
   "cell_type": "code",
   "execution_count": 4,
   "metadata": {},
   "outputs": [],
   "source": [
    "\n",
    "\n",
    "def build_mapping(mapping_txt_path: str, mapping: dict) -> None:\n",
    "    with open(mapping_txt_path, \"r\") as file:\n",
    "        for line in file.readlines():\n",
    "            values = line.split(\" \")\n",
    "            mapping[int(values[0])] = chr(int(values[1]))\n",
    "            "
   ]
  },
  {
   "cell_type": "code",
   "execution_count": 5,
   "metadata": {},
   "outputs": [],
   "source": [
    "BASE_DATA_PATH = './data'\n",
    "number_to_char_map = {}\n",
    "# Build the map for letters and digits\n",
    "build_mapping(f\"{BASE_DATA_PATH}/emnist-letters-mapping.txt\", number_to_char_map)\n",
    "build_mapping(f\"{BASE_DATA_PATH}/emnist-digits-mapping.txt\", number_to_char_map)\n",
    "\n",
    "train_csv_paths = [f\"{BASE_DATA_PATH}/emnist-digits-train.csv\", f\"{BASE_DATA_PATH}/emnist-letters-train.csv\"]"
   ]
  },
  {
   "cell_type": "code",
   "execution_count": 6,
   "metadata": {},
   "outputs": [],
   "source": [
    "BASE_IMGS_PATH = './data/imgs'\n",
    "\n",
    "def row_to_img(i: int, row: pd.Series) -> None:\n",
    "    feature = number_to_char_map.get(row[0])\n",
    "    img = np.array(row[1:])\n",
    "    img = img.reshape((28, 28))\n",
    "    cv2.imwrite(f\"{BASE_IMGS_PATH}/{feature}_{i}.png\", img)"
   ]
  },
  {
   "cell_type": "code",
   "execution_count": 7,
   "metadata": {},
   "outputs": [
    {
     "name": "stdout",
     "output_type": "stream",
     "text": [
      "Finished processing ./data/emnist-digits-train.csv\n",
      "Finished processing ./data/emnist-letters-train.csv\n"
     ]
    }
   ],
   "source": [
    "for train_csv_path in train_csv_paths:\n",
    "    train_df = pd.read_csv(train_csv_path)\n",
    "    train_df.apply(lambda row: row_to_img(row.name, row), axis=1)\n",
    "    print(f\"Finished processing {train_csv_path}\")"
   ]
  }
 ],
 "metadata": {
  "kernelspec": {
   "display_name": "conda",
   "language": "python",
   "name": "python3"
  },
  "language_info": {
   "codemirror_mode": {
    "name": "ipython",
    "version": 3
   },
   "file_extension": ".py",
   "mimetype": "text/x-python",
   "name": "python",
   "nbconvert_exporter": "python",
   "pygments_lexer": "ipython3",
   "version": "3.10.2"
  },
  "orig_nbformat": 4,
  "vscode": {
   "interpreter": {
    "hash": "3d23e10d825f1fa7ded50f967e4b0541ecae81bdb7f1d39b6b69da7f7a5d74b9"
   }
  }
 },
 "nbformat": 4,
 "nbformat_minor": 2
}
